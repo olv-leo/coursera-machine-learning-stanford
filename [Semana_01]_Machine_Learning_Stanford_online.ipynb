{
  "nbformat": 4,
  "nbformat_minor": 0,
  "metadata": {
    "colab": {
      "name": "[Semana 01] Machine Learning - Stanford online.ipynb",
      "provenance": [],
      "collapsed_sections": [
        "0RdUeJMWhALV",
        "D-FmyGupLJVn",
        "ZblU14GgQ4id",
        "kw_8uVwcbBpf",
        "XiLf0kF3hc59",
        "NbKiGtgXTR9g"
      ],
      "authorship_tag": "ABX9TyMh4P/eUzSXl7pITSZD62gB",
      "include_colab_link": true
    },
    "kernelspec": {
      "name": "python3",
      "display_name": "Python 3"
    },
    "language_info": {
      "name": "python"
    }
  },
  "cells": [
    {
      "cell_type": "markdown",
      "metadata": {
        "id": "view-in-github",
        "colab_type": "text"
      },
      "source": [
        "<a href=\"https://colab.research.google.com/github/olv-leo/coursera-machine-learning-stanford/blob/main/%5BSemana_01%5D_Machine_Learning_Stanford_online.ipynb\" target=\"_parent\"><img src=\"https://colab.research.google.com/assets/colab-badge.svg\" alt=\"Open In Colab\"/></a>"
      ]
    },
    {
      "cell_type": "markdown",
      "metadata": {
        "id": "A1Q5aqbntGV4"
      },
      "source": [
        "**Início:** 02/10/2021  \n",
        "**Término:** "
      ]
    },
    {
      "cell_type": "markdown",
      "metadata": {
        "id": "0RdUeJMWhALV"
      },
      "source": [
        "# Introduction"
      ]
    },
    {
      "cell_type": "markdown",
      "metadata": {
        "id": "D-FmyGupLJVn"
      },
      "source": [
        "## What is Machine Learning?"
      ]
    },
    {
      "cell_type": "markdown",
      "metadata": {
        "id": "N71Q0qopRWzN"
      },
      "source": [
        "Two definitions of Machine Learning are offered. Arthur Samuel described it as:\n",
        "> \"the field of study that gives computers the ability to learn without being explicitly programmed.\" \n",
        "\n",
        "This is an older, informal definition.\n",
        "\n",
        "Tom Mitchell provides a more modern definition: \n",
        "> \"A computer program is said to learn from experience E with respect to some class of tasks T and performance measure P, if its performance at tasks in T, as measured by P, improves with experience E.\"\n",
        "\n",
        "Example: playing checkers.\n",
        "\n",
        "E = the experience of playing many games of checkers\n",
        "\n",
        "T = the task of playing checkers.\n",
        "\n",
        "P = the probability that the program will win the next game.\n",
        "\n",
        "In general, any machine learning problem can be assigned to one of two broad classifications:\n",
        "\n",
        "Supervised learning and Unsupervised learning."
      ]
    },
    {
      "cell_type": "markdown",
      "metadata": {
        "id": "ZblU14GgQ4id"
      },
      "source": [
        "## Supervised Learning"
      ]
    },
    {
      "cell_type": "markdown",
      "metadata": {
        "id": "VZ3XoJBCQ-s6"
      },
      "source": [
        "In supervised learning, we are given a data set and already know what our correct output should look like, having the idea that there is a relationship between the input and the output.\n",
        "\n",
        "**Supervised learning problems are categorized into \"regression\" and \"classification\"** problems. In a regression problem, we are trying to predict results within a continuous output, meaning that we are trying to map input variables to some continuous function. In a classification problem, we are instead trying to predict results in a discrete output. In other words, we are trying to map input variables into discrete categories. \n",
        "\n",
        "### Example 1:\n",
        "\n",
        "Given data about the size of houses on the real estate market, try to predict their price. Price as a function of size is a continuous output, so this is a regression problem.\n",
        "\n",
        "We could turn this example into a classification problem by instead making our output about whether the house \"sells for more or less than the asking price.\" Here we are classifying the houses based on price into two discrete categories.\n",
        "\n",
        "### Example 2:\n",
        "\n",
        "**(a) Regression** - Given a picture of a person, we have to predict their age on the basis of the given picture\n",
        "\n",
        "**(b) Classification** - Given a patient with a tumor, we have to predict whether the tumor is malignant or benign. "
      ]
    },
    {
      "cell_type": "markdown",
      "metadata": {
        "id": "sYlM9oaubaTe"
      },
      "source": [
        "## Unsupervised Learning"
      ]
    },
    {
      "cell_type": "markdown",
      "metadata": {
        "id": "qgoVLqSrbda1"
      },
      "source": [
        "Unsupervised learning allows us to approach problems with little or no idea what our results should look like. We can derive structure from data where we don't necessarily know the effect of the variables.\n",
        "\n",
        "We can derive this structure by clustering the data based on relationships among the variables in the data.\n",
        "\n",
        "With unsupervised learning there is no feedback based on the prediction results.\n",
        "\n",
        "Example:\n",
        "\n",
        "**Clustering:** Take a collection of 1,000,000 different genes, and find a way to automatically group these genes into groups that are somehow similar or related by different variables, such as lifespan, location, roles, and so on.\n",
        "\n",
        "**Non-clustering:** The \"Cocktail Party Algorithm\", allows you to find structure in a chaotic environment. (i.e. identifying individual voices and music from a mesh of sounds at a cocktail party)."
      ]
    },
    {
      "cell_type": "markdown",
      "metadata": {
        "id": "aWfNHM9ghL6N"
      },
      "source": [
        "#Linear Regression with One Variable"
      ]
    },
    {
      "cell_type": "markdown",
      "metadata": {
        "id": "kw_8uVwcbBpf"
      },
      "source": [
        "## Model Representation"
      ]
    },
    {
      "cell_type": "markdown",
      "metadata": {
        "id": "Tc8u_WdoaItk"
      },
      "source": [
        "To establish notation for future use, we’ll use $ x^{(i)}$ to denote the “input” variables (living area in this example), also called input features, and $y^{(i)}$ to denote the “output” or target variable that we are trying to predict (price). \n",
        "\n",
        "A pair $(x^{(i)} , y^{(i)} )$ is called a training example, and the dataset that we’ll be using to learn —a list of m training examples $(x^{(i)} , y^{(i)} )$; i = 1, . . . , m—is called a training set. \n",
        "\n",
        "Note that the superscript “(i)” in the notation **is simply an index** into the training set, and has nothing to do with exponentiation. We will also use X to denote the space of input values, and Y to denote the space of output values. In this example, X = Y = ℝ. \n",
        "\n",
        "To describe the supervised learning problem slightly more formally, our goal is, given a training set, to learn a function h : X → Y so that h(x) is a “good” predictor for the corresponding value of y. For historical reasons, this function h is called a hypothesis. Seen pictorially, the process is therefore like this:\n",
        "![Diagrama](https://d3c33hcgiwev3.cloudfront.net/imageAssetProxy.v1/H6qTdZmYEeaagxL7xdFKxA_2f0f671110e8f7446bb2b5b2f75a8874_Screenshot-2016-10-23-20.14.58.png?expiry=1633305600000&hmac=CgS0tLXtN56QVA6IX5_KR7bK92qir2LMGqb6-cMb6ck)\n",
        "\n",
        "###Regression problem\n",
        "When the target variable that we’re trying to predict is continuous, such as in our housing example, we call the learning problem a regression problem. \n",
        "\n",
        "###Classification problem\n",
        "When y can take on only a small number of discrete values (such as if, given the living area, we wanted to predict if a dwelling is a house or an apartment, say), we call it a classification problem."
      ]
    },
    {
      "cell_type": "markdown",
      "metadata": {
        "id": "XiLf0kF3hc59"
      },
      "source": [
        "## Cost Function"
      ]
    },
    {
      "cell_type": "markdown",
      "metadata": {
        "id": "RRZFNWZKhleF"
      },
      "source": [
        "We can measure the accuracy of our hypothesis function by using a cost function. This takes an average difference (actually a fancier version of an average) of all the results of the hypothesis with inputs from x's and the actual output y's.\n",
        "\n",
        "$$J(\\theta_0, \\theta_1) = \\dfrac {1}{2m} \\displaystyle \\sum _{i=1}^m \\left ( \\hat{y}_{i}- y_{i} \\right)^2 = \\dfrac {1}{2m} \\displaystyle \\sum _{i=1}^m \\left (h_\\theta (x_{i}) - y_{i} \\right)^2$$\n",
        "\n",
        "To break it apart, it is $\\frac{1}{2}\\bar{x}$ where $\\bar{x}$ is the mean of the squares of $h_\\theta (x_{i}) - y_{i}$, or the difference between the predicted value and the actual value.\n",
        "\n",
        "This function is otherwise called the *\"Squared error function\"*, or *\"Mean squared error\"*. The mean is halved $\\left(\\frac{1}{2}\\right)$ as a convenience for the computation of the gradient descent, as the derivative term of the square function will cancel out the $\\frac{1}{2}$ term. The following image summarizes what the cost function does: \n",
        "\n",
        "![diagrama da aula](https://d3c33hcgiwev3.cloudfront.net/imageAssetProxy.v1/R2YF5Lj3EeajLxLfjQiSjg_110c901f58043f995a35b31431935290_Screen-Shot-2016-12-02-at-5.23.31-PM.png?expiry=1633305600000&hmac=mwjPtHZh7Ccaw2x7C0FvJ6UXZYXDbOwqkLybfi5MjOQ)"
      ]
    },
    {
      "cell_type": "markdown",
      "metadata": {
        "id": "UESFYkHmnOrq"
      },
      "source": [
        "##Cost Function - Intuition I"
      ]
    },
    {
      "cell_type": "markdown",
      "metadata": {
        "id": "ZOpPg_K4nSoN"
      },
      "source": [
        "If we try to think of it in visual terms, our training data set is scattered on the x-y plane. We are trying to make a straight line (defined by $h_\\theta(x)$) which passes through these scattered data points. \n",
        "\n",
        "Our objective is to get the best possible line. The best possible line will be such so that the average squared vertical distances of the scattered points from the line will be the least. Ideally, the line should pass through all the points of our training data set. In such a case, the value of $J(\\theta_0, \\theta_1)$ will be 0. The following example shows the ideal situation where we have a cost function of 0. \n",
        "\n",
        "![Diagrama explicação](https://d3c33hcgiwev3.cloudfront.net/imageAssetProxy.v1/_B8TJZtREea33w76dwnDIg_3e3d4433e32478f8df446d0b6da26c27_Screenshot-2016-10-26-00.57.56.png?expiry=1633305600000&hmac=O45nXcdZIPV6EKl5O-f8ebjener0dLh3HQWfj792N70)\n",
        "\n",
        "When $\\theta_1 = 1$, we get a slope of 1 which goes through every single data point in our model.\n",
        "Conversely, when $\\theta_1 = 0.5$, we see the vertical distance from our fit to the data points increase. \n",
        "\n",
        "![Diagrama explicação](https://d3c33hcgiwev3.cloudfront.net/imageAssetProxy.v1/8guexptSEeanbxIMvDC87g_3d86874dfd37b8e3c53c9f6cfa94676c_Screenshot-2016-10-26-01.03.07.png?expiry=1633305600000&hmac=UBBXVrlhLqM7LvnVuizoN6PECrwrggzxCxTPYPRrMQA)\n",
        "\n",
        "This increases our cost function to 0.58. Plotting several other points yields to the following graph: \n",
        "\n",
        "![Diagrama explicação](https://d3c33hcgiwev3.cloudfront.net/imageAssetProxy.v1/fph0S5tTEeajtg5TyD0vYA_9b28bdfeb34b2d4914d0b64903735cf1_Screenshot-2016-10-26-01.09.05.png?expiry=1633305600000&hmac=ux36M5j1QEx4PgA3FG1yIMRrnJxAGDZy_9574lw_y1A)\n",
        "\n",
        "Thus as a goal, we should try to minimize the cost function. In this case, $\\theta_1 = 1$ is our global minimum.\n"
      ]
    },
    {
      "cell_type": "markdown",
      "metadata": {
        "id": "Akidf9RwrjJw"
      },
      "source": [
        "##Cost Function - Intuition II"
      ]
    },
    {
      "cell_type": "markdown",
      "metadata": {
        "id": "CvHH5EiGrmzi"
      },
      "source": [
        "A contour plot is a graph that contains many contour lines. A contour line of a two variable function has a constant value at all points of the same line. An example of such a graph is the one to the right below.\n",
        "![Diagrama](https://d3c33hcgiwev3.cloudfront.net/imageAssetProxy.v1/N2oKYp2wEeaVChLw2Vaaug_d4d1c5b1c90578b32a6672e3b7e4b3a4_Screenshot-2016-10-29-01.14.37.png?expiry=1633305600000&hmac=lNDBbCuJmsr-547ivO_K5QjuXu26t15OkJ2lUYrCfCk)\n",
        "\n",
        "Taking any color and going along the 'circle', one would expect to get the same value of the cost function. For example, the three green points found on the green line above have the same value for $J(\\theta_0,\\theta_1)$ and as a result, they are found along the same line. The circled x displays the value of the cost function for the graph on the left when $\\theta_0$ = 800 and $\\theta_1$ = -0.15. Taking another h(x) and plotting its contour plot, one gets the following graphs:\n",
        "\n",
        "![Diagrama](https://d3c33hcgiwev3.cloudfront.net/imageAssetProxy.v1/26RZhJ34EeaiZBL80Yza_A_0f38a99c8ceb8aa5b90a5f12136fdf43_Screenshot-2016-10-29-01.14.57.png?expiry=1633305600000&hmac=xKLfpLsiq_YvZsj7iLVCKi5HLrBC7YdpPEiQrE0VbI4)\n",
        "\n",
        "When $\\theta_0$ = 360 and $\\theta_1$ = 0, the value of $J(\\theta_0,\\theta_1)$ in the contour plot gets closer to the center thus reducing the cost function error. Now giving our hypothesis function a slightly positive slope results in a better fit of the data.\n",
        "\n",
        "![Diagrama](https://d3c33hcgiwev3.cloudfront.net/imageAssetProxy.v1/hsGgT536Eeai9RKvXdDYag_2a61803b5f4f86d4290b6e878befc44f_Screenshot-2016-10-29-09.59.41.png?expiry=1633305600000&hmac=LFe0QwhLFIbsyBeoOZEOtkq-ar7Tphs4hhe8H6i-vKo)\n",
        "\n",
        "The graph above minimizes the cost function as much as possible and consequently, the result of $\\theta_1$ and $\\theta_0$ tend to be around 0.12 and 250 respectively. Plotting those values on our graph to the right seems to put our point in the center of the inner most 'circle'. "
      ]
    },
    {
      "cell_type": "markdown",
      "metadata": {
        "id": "8N9Vq8bRseOL"
      },
      "source": [
        ""
      ]
    },
    {
      "cell_type": "markdown",
      "metadata": {
        "id": "NbKiGtgXTR9g"
      },
      "source": [
        "# Gradient Descent"
      ]
    },
    {
      "cell_type": "markdown",
      "metadata": {
        "id": "SeMsvIygTU0Q"
      },
      "source": [
        "So we have our hypothesis function and we have a way of measuring how well it fits into the data. Now we need to estimate the parameters in the hypothesis function. That's where gradient descent comes in.\n",
        "\n",
        "Imagine that we graph our hypothesis function based on its fields $\\theta_0$ and $\\theta_1$ (actually we are graphing the cost function as a function of the parameter estimates). We are not graphing x and y itself, but the parameter range of our hypothesis function and the cost resulting from selecting a particular set of parameters.\n",
        "\n",
        "We put $\\theta_0$ on the x axis and $\\theta_1$ on the y axis, with the cost function on the vertical z axis. The points on our graph will be the result of the cost function using our hypothesis with those specific theta parameters. The graph below depicts such a setup.\n",
        "![Exemplo](https://d3c33hcgiwev3.cloudfront.net/imageAssetProxy.v1/bn9SyaDIEeav5QpTGIv-Pg_0d06dca3d225f3de8b5a4a7e92254153_Screenshot-2016-11-01-23.48.26.png?expiry=1633392000000&hmac=ckOiDB8TpjiD93gMs-KZXF5ShiAV5yrUZ_tBAwHml30)\n",
        "\n",
        "We will know that we have succeeded when our cost function is at the very bottom of the pits in our graph, i.e. when its value is the minimum.  The red arrows show the minimum points in the graph.\n",
        "\n",
        "The way we do this is by taking the derivative (the tangential line to a function) of our cost function. The slope of the tangent is the derivative at that point and it will give us a direction to move towards. We make steps down the cost function in the direction with the steepest descent. The size of each step is determined by the parameter α, which is called the learning rate. \n",
        "\n",
        "For example, the distance between each 'star' in the graph above represents a step determined by our parameter α. A smaller α would result in a smaller step and a larger α results in a larger step. The direction in which the step is taken is determined by the partial derivative of $J(\\theta_0,\\theta_1)$. Depending on where one starts on the graph, one could end up at different points. The image above shows us two different starting points that end up in two different places. \n",
        "\n",
        "The gradient descent algorithm is:\n",
        "\n",
        "repeat until convergence:\n",
        "\n",
        "$$\\theta_j := \\theta_j - \\alpha \\frac{\\partial}{\\partial \\theta_j} J(\\theta_0, \\theta_1)$$\n",
        "where\n",
        "\n",
        "j=0,1 represents the feature index number.\n",
        "\n",
        "At each iteration j, one should simultaneously update the parameters $\\theta_1, \\theta_2,...,\\theta_n$.  \n",
        "Updating a specific parameter prior to calculating another one on the $j^{(th)}$ iteration would yield to a wrong implementation. \n",
        "\n",
        "![Diagrama](https://d3c33hcgiwev3.cloudfront.net/imageAssetProxy.v1/yr-D1aDMEeai9RKvXdDYag_627e5ab52d5ff941c0fcc741c2b162a0_Screenshot-2016-11-02-00.19.56.png?expiry=1633392000000&hmac=jwM_I06sfskfaqv5EwbQy68ssE_0D9CMiRI_pz7KO6k)"
      ]
    }
  ]
}